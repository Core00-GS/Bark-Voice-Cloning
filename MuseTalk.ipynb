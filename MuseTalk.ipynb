{
  "cells": [
    {
      "cell_type": "markdown",
      "metadata": {
        "id": "view-in-github",
        "colab_type": "text"
      },
      "source": [
        "<a href=\"https://colab.research.google.com/github/KevinWang676/Bark-Voice-Cloning/blob/main/MuseTalk.ipynb\" target=\"_parent\"><img src=\"https://colab.research.google.com/assets/colab-badge.svg\" alt=\"Open In Colab\"/></a>"
      ]
    },
    {
      "cell_type": "code",
      "source": [
        "#@title 一键启动\n",
        "!git clone https://github.com/TMElyralab/MuseTalk.git\n",
        "%cd MuseTalk\n",
        "!git clone https://huggingface.co/kevinwang676/MuseTalk.git\n",
        "!mv /content/MuseTalk/MuseTalk/ffmpeg-6.1-amd64-static /content/MuseTalk/\n",
        "!mv /content/MuseTalk/MuseTalk/models /content/MuseTalk/\n",
        "!mv /content/MuseTalk/MuseTalk/app_new.py /content/MuseTalk/\n",
        "!pip install -r requirements.txt\n",
        "!pip install --no-cache-dir -U openmim\n",
        "!mim install mmengine\n",
        "!mim install \"mmcv>=2.0.1\"\n",
        "!mim install \"mmdet>=3.1.0\"\n",
        "!mim install \"mmpose>=1.1.0\"\n",
        "!export FFMPEG_PATH=/content/MuseTalk/ffmpeg-6.1-amd64-static\n",
        "import os\n",
        "os.environ[\"FFMPEG_PATH\"] = \"/content/MuseTalk/ffmpeg-6.1-amd64-static\"\n",
        "!python app_new.py"
      ],
      "metadata": {
        "id": "x2S1XDoRCQz7"
      },
      "execution_count": null,
      "outputs": []
    },
    {
      "cell_type": "code",
      "source": [],
      "metadata": {
        "id": "HqZHQaLpCX2n"
      },
      "execution_count": null,
      "outputs": []
    },
    {
      "cell_type": "code",
      "source": [
        "#!python -m scripts.inference --inference_config configs/inference/test.yaml"
      ],
      "metadata": {
        "id": "MrI7vCrpCVYt"
      },
      "execution_count": null,
      "outputs": []
    },
    {
      "cell_type": "code",
      "source": [
        "'''\n",
        "!wget https://cdn-media.huggingface.co/frpc-gradio-0.2/frpc_linux_amd64\n",
        "!mv frpc_linux_amd64 frpc_linux_amd64_v0.2\n",
        "!mv frpc_linux_amd64_v0.2 /usr/local/lib/python3.10/dist-packages/gradio\n",
        "!chmod +x /usr/local/lib/python3.10/dist-packages/gradio/frpc_linux_amd64_v0.2\n",
        "'''"
      ],
      "metadata": {
        "id": "bCFYAaHFcOAM"
      },
      "execution_count": null,
      "outputs": []
    }
  ],
  "metadata": {
    "accelerator": "GPU",
    "colab": {
      "gpuType": "T4",
      "provenance": [],
      "authorship_tag": "ABX9TyOlCoxHZK6bkrsq62LcagmO",
      "include_colab_link": true
    },
    "kernelspec": {
      "display_name": "Python 3",
      "name": "python3"
    },
    "language_info": {
      "name": "python"
    }
  },
  "nbformat": 4,
  "nbformat_minor": 0
}