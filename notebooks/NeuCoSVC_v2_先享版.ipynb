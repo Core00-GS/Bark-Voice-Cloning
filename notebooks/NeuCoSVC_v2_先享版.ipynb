{
  "cells": [
    {
      "cell_type": "markdown",
      "metadata": {
        "id": "view-in-github",
        "colab_type": "text"
      },
      "source": [
        "<a href=\"https://colab.research.google.com/github/KevinWang676/Bark-Voice-Cloning/blob/main/notebooks/NeuCoSVC_v2_%E5%85%88%E4%BA%AB%E7%89%88.ipynb\" target=\"_parent\"><img src=\"https://colab.research.google.com/assets/colab-badge.svg\" alt=\"Open In Colab\"/></a>"
      ]
    },
    {
      "cell_type": "code",
      "source": [
        "#@title 一键启动AI翻唱\n",
        "!git clone https://huggingface.co/spaces/kevinwang676/NeuCoSVC-2.git\n",
        "%cd NeuCoSVC-2\n",
        "!pip install -r requirements_colab.txt\n",
        "import shutil\n",
        "shutil.rmtree(\"REAPER\")\n",
        "!git clone https://github.com/google/REAPER.git\n",
        "%cd REAPER\n",
        "!mkdir build\n",
        "%cd build\n",
        "!cmake ..\n",
        "!make\n",
        "%cd ..\n",
        "%cd ..\n",
        "!python app_colab.py"
      ],
      "metadata": {
        "id": "BBb8LK0KXw8n"
      },
      "execution_count": null,
      "outputs": []
    },
    {
      "cell_type": "code",
      "source": [],
      "metadata": {
        "id": "usDN-tbr0ALs"
      },
      "execution_count": null,
      "outputs": []
    },
    {
      "cell_type": "code",
      "execution_count": null,
      "metadata": {
        "id": "tWPIdmlBaZNe"
      },
      "outputs": [],
      "source": [
        "#convert(20, \"花海 周杰伦\", \"遇见 孙燕姿\", True, True, 0, 0, 0)"
      ]
    },
    {
      "cell_type": "code",
      "execution_count": null,
      "metadata": {
        "id": "aQrhHH11WoM6"
      },
      "outputs": [],
      "source": [
        "#!python inference.py --src_wav_path src_mono.wav --ref_wav_path ref_mono.wav --key_shift 0"
      ]
    }
  ],
  "metadata": {
    "accelerator": "GPU",
    "colab": {
      "gpuType": "T4",
      "provenance": [],
      "authorship_tag": "ABX9TyPv1XfmiGh8HgdsLVZA4o31",
      "include_colab_link": true
    },
    "kernelspec": {
      "display_name": "Python 3",
      "name": "python3"
    },
    "language_info": {
      "name": "python"
    }
  },
  "nbformat": 4,
  "nbformat_minor": 0
}
