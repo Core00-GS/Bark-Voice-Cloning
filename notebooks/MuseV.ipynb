{
  "nbformat": 4,
  "nbformat_minor": 0,
  "metadata": {
    "colab": {
      "provenance": [],
      "machine_shape": "hm",
      "gpuType": "L4",
      "authorship_tag": "ABX9TyNrXC+gpXzxifbM6t7osuBD",
      "include_colab_link": true
    },
    "kernelspec": {
      "name": "python3",
      "display_name": "Python 3"
    },
    "language_info": {
      "name": "python"
    },
    "accelerator": "GPU"
  },
  "cells": [
    {
      "cell_type": "markdown",
      "metadata": {
        "id": "view-in-github",
        "colab_type": "text"
      },
      "source": [
        "<a href=\"https://colab.research.google.com/github/KevinWang676/Bark-Voice-Cloning/blob/main/notebooks/MuseV.ipynb\" target=\"_parent\"><img src=\"https://colab.research.google.com/assets/colab-badge.svg\" alt=\"Open In Colab\"/></a>"
      ]
    },
    {
      "cell_type": "code",
      "source": [
        "# @title 一键启动\n",
        "\n",
        "!git clone --recursive https://github.com/KevinWang676/MuseV.git\n",
        "%cd MuseV\n",
        "!pip install -r requirements.txt\n",
        "!pip install gradio==4.12\n",
        "!pip install --no-cache-dir -U openmim\n",
        "!mim install mmengine\n",
        "!mim install \"mmcv>=2.0.1\"\n",
        "!mim install \"mmdet>=3.1.0\"\n",
        "!mim install \"mmpose>=1.1.0\"\n",
        "!git clone https://huggingface.co/TMElyralab/MuseV ./checkpoints\n",
        "!mv musev scripts/gradio\n",
        "%cd scripts/gradio\n",
        "!python app.py"
      ],
      "metadata": {
        "id": "sEuM6BNHhABF"
      },
      "execution_count": null,
      "outputs": []
    },
    {
      "cell_type": "code",
      "source": [],
      "metadata": {
        "id": "yUOIyBYoCKlY"
      },
      "execution_count": null,
      "outputs": []
    }
  ]
}
