{
  "nbformat": 4,
  "nbformat_minor": 0,
  "metadata": {
    "colab": {
      "provenance": [],
      "machine_shape": "hm",
      "gpuType": "T4",
      "include_colab_link": true
    },
    "kernelspec": {
      "name": "python3",
      "display_name": "Python 3"
    },
    "language_info": {
      "name": "python"
    },
    "accelerator": "GPU"
  },
  "cells": [
    {
      "cell_type": "markdown",
      "metadata": {
        "id": "view-in-github",
        "colab_type": "text"
      },
      "source": [
        "<a href=\"https://colab.research.google.com/github/KevinWang676/Bark-Voice-Cloning/blob/main/GPT_SoVITS_2.ipynb\" target=\"_parent\"><img src=\"https://colab.research.google.com/assets/colab-badge.svg\" alt=\"Open In Colab\"/></a>"
      ]
    },
    {
      "cell_type": "code",
      "source": [
        "#@title 一键启动！\n",
        "!git clone https://github.com/KevinWang676/GPT-SoVITS-v2.git\n",
        "!git clone https://huggingface.co/spaces/kevinwang676/GPT-SoVITS-models.git\n",
        "%cd GPT-SoVITS-v2\n",
        "!pip install --disable-pip-version-check -r requirements.txt\n",
        "!sudo apt install ffmpeg\n",
        "!sudo apt install libsox-dev\n",
        "!mv /content/GPT-SoVITS-models/GPT-SoVITS/tools/damo_asr/models /content/GPT-SoVITS-v2/tools/damo_asr\n",
        "!mv /content/GPT-SoVITS-models/GPT-SoVITS/GPT_SoVITS/pretrained_models /content/GPT-SoVITS-v2/GPT_SoVITS\n",
        "import nltk\n",
        "nltk.download(\"all\")\n",
        "!python webui.py"
      ],
      "metadata": {
        "id": "WXqXTJnmq4t6"
      },
      "execution_count": null,
      "outputs": []
    },
    {
      "cell_type": "code",
      "source": [],
      "metadata": {
        "id": "l28zMG05rKoJ"
      },
      "execution_count": null,
      "outputs": []
    }
  ]
}