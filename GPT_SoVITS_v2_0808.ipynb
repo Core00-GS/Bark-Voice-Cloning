{
  "nbformat": 4,
  "nbformat_minor": 0,
  "metadata": {
    "colab": {
      "provenance": [],
      "gpuType": "T4",
      "authorship_tag": "ABX9TyO531NXQShaXsY3XetvGsHy",
      "include_colab_link": true
    },
    "kernelspec": {
      "name": "python3",
      "display_name": "Python 3"
    },
    "language_info": {
      "name": "python"
    },
    "accelerator": "GPU"
  },
  "cells": [
    {
      "cell_type": "markdown",
      "metadata": {
        "id": "view-in-github",
        "colab_type": "text"
      },
      "source": [
        "<a href=\"https://colab.research.google.com/github/KevinWang676/Bark-Voice-Cloning/blob/main/GPT_SoVITS_v2_0808.ipynb\" target=\"_parent\"><img src=\"https://colab.research.google.com/assets/colab-badge.svg\" alt=\"Open In Colab\"/></a>"
      ]
    },
    {
      "cell_type": "code",
      "source": [
        "#@title 一键运行第二代 GPT-SoVITS\n",
        "!git clone https://huggingface.co/spaces/kevinwang676/GPT-SoVITS-v2.git\n",
        "%cd GPT-SoVITS-v2\n",
        "!pip install --disable-pip-version-check -r requirements.txt\n",
        "!sudo apt install ffmpeg\n",
        "!sudo apt install libsox-dev\n",
        "import nltk\n",
        "nltk.download(\"all\")\n",
        "!python webui.py"
      ],
      "metadata": {
        "id": "H5ARCxqizYra"
      },
      "execution_count": null,
      "outputs": []
    },
    {
      "cell_type": "code",
      "source": [],
      "metadata": {
        "id": "vmWq1_VbXGBT"
      },
      "execution_count": null,
      "outputs": []
    }
  ]
}